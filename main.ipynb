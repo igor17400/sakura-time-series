{
 "cells": [
  {
   "cell_type": "code",
   "execution_count": 2,
   "metadata": {},
   "outputs": [],
   "source": [
    "import pandas as pd\n",
    "import matplotlib.pyplot as plt\n",
    "import seaborn as sns\n",
    "import numpy as np\n",
    "from scipy import stats"
   ]
  },
  {
   "cell_type": "code",
   "execution_count": 3,
   "metadata": {},
   "outputs": [
    {
     "data": {
      "text/html": [
       "<div>\n",
       "<style scoped>\n",
       "    .dataframe tbody tr th:only-of-type {\n",
       "        vertical-align: middle;\n",
       "    }\n",
       "\n",
       "    .dataframe tbody tr th {\n",
       "        vertical-align: top;\n",
       "    }\n",
       "\n",
       "    .dataframe thead th {\n",
       "        text-align: right;\n",
       "    }\n",
       "</style>\n",
       "<table border=\"1\" class=\"dataframe\">\n",
       "  <thead>\n",
       "    <tr style=\"text-align: right;\">\n",
       "      <th></th>\n",
       "      <th>Site Name</th>\n",
       "      <th>Currently Being Observed</th>\n",
       "      <th>1953</th>\n",
       "      <th>1954</th>\n",
       "      <th>1955</th>\n",
       "      <th>1956</th>\n",
       "      <th>1957</th>\n",
       "      <th>1958</th>\n",
       "      <th>1959</th>\n",
       "      <th>1960</th>\n",
       "      <th>...</th>\n",
       "      <th>2016</th>\n",
       "      <th>2017</th>\n",
       "      <th>2018</th>\n",
       "      <th>2019</th>\n",
       "      <th>2020</th>\n",
       "      <th>2021</th>\n",
       "      <th>2022</th>\n",
       "      <th>2023</th>\n",
       "      <th>30 Year Average 1981-2010</th>\n",
       "      <th>Notes</th>\n",
       "    </tr>\n",
       "  </thead>\n",
       "  <tbody>\n",
       "    <tr>\n",
       "      <th>0</th>\n",
       "      <td>Wakkanai</td>\n",
       "      <td>True</td>\n",
       "      <td>1953-05-21</td>\n",
       "      <td>1954-05-17</td>\n",
       "      <td>1955-05-17</td>\n",
       "      <td>1956-05-12</td>\n",
       "      <td>1957-05-18</td>\n",
       "      <td>1958-05-23</td>\n",
       "      <td>1959-05-03</td>\n",
       "      <td>1960-05-19</td>\n",
       "      <td>...</td>\n",
       "      <td>2016-05-13</td>\n",
       "      <td>2017-05-09</td>\n",
       "      <td>2018-05-12</td>\n",
       "      <td>2019-05-07</td>\n",
       "      <td>2020-05-10</td>\n",
       "      <td>2021-05-08</td>\n",
       "      <td>2022-05-06</td>\n",
       "      <td>2023-05-03</td>\n",
       "      <td>5 13</td>\n",
       "      <td>Sargent cherry (Prunus sargentii)</td>\n",
       "    </tr>\n",
       "    <tr>\n",
       "      <th>1</th>\n",
       "      <td>Rumoi</td>\n",
       "      <td>False</td>\n",
       "      <td>1953-05-08</td>\n",
       "      <td>1954-05-11</td>\n",
       "      <td>1955-05-13</td>\n",
       "      <td>1956-05-08</td>\n",
       "      <td>1957-05-10</td>\n",
       "      <td>1958-05-12</td>\n",
       "      <td>NaN</td>\n",
       "      <td>NaN</td>\n",
       "      <td>...</td>\n",
       "      <td>NaN</td>\n",
       "      <td>NaN</td>\n",
       "      <td>NaN</td>\n",
       "      <td>NaN</td>\n",
       "      <td>NaN</td>\n",
       "      <td>NaN</td>\n",
       "      <td>NaN</td>\n",
       "      <td>NaN</td>\n",
       "      <td>-</td>\n",
       "      <td>Sargent cherry (Prunus sargentii)</td>\n",
       "    </tr>\n",
       "    <tr>\n",
       "      <th>2</th>\n",
       "      <td>Asahikawa</td>\n",
       "      <td>True</td>\n",
       "      <td>1953-05-11</td>\n",
       "      <td>1954-05-13</td>\n",
       "      <td>1955-05-09</td>\n",
       "      <td>1956-05-07</td>\n",
       "      <td>1957-05-09</td>\n",
       "      <td>1958-05-10</td>\n",
       "      <td>1959-05-08</td>\n",
       "      <td>1960-05-13</td>\n",
       "      <td>...</td>\n",
       "      <td>2016-05-03</td>\n",
       "      <td>2017-05-03</td>\n",
       "      <td>2018-04-30</td>\n",
       "      <td>2019-05-01</td>\n",
       "      <td>2020-05-03</td>\n",
       "      <td>2021-04-29</td>\n",
       "      <td>2022-04-26</td>\n",
       "      <td>2023-04-25</td>\n",
       "      <td>5  4</td>\n",
       "      <td>Sargent cherry (Prunus sargentii)</td>\n",
       "    </tr>\n",
       "    <tr>\n",
       "      <th>3</th>\n",
       "      <td>Abashiri</td>\n",
       "      <td>True</td>\n",
       "      <td>1953-05-24</td>\n",
       "      <td>1954-05-16</td>\n",
       "      <td>1955-05-18</td>\n",
       "      <td>1956-05-09</td>\n",
       "      <td>NaN</td>\n",
       "      <td>NaN</td>\n",
       "      <td>1959-05-03</td>\n",
       "      <td>NaN</td>\n",
       "      <td>...</td>\n",
       "      <td>2016-05-08</td>\n",
       "      <td>2017-05-05</td>\n",
       "      <td>2018-05-02</td>\n",
       "      <td>2019-05-05</td>\n",
       "      <td>2020-05-07</td>\n",
       "      <td>2021-05-06</td>\n",
       "      <td>2022-04-27</td>\n",
       "      <td>2023-04-28</td>\n",
       "      <td>5 10</td>\n",
       "      <td>Sargent cherry (Prunus sargentii)</td>\n",
       "    </tr>\n",
       "    <tr>\n",
       "      <th>4</th>\n",
       "      <td>Sapporo</td>\n",
       "      <td>True</td>\n",
       "      <td>1953-05-07</td>\n",
       "      <td>1954-05-04</td>\n",
       "      <td>1955-05-11</td>\n",
       "      <td>1956-05-04</td>\n",
       "      <td>1957-05-09</td>\n",
       "      <td>NaN</td>\n",
       "      <td>1959-05-05</td>\n",
       "      <td>1960-05-05</td>\n",
       "      <td>...</td>\n",
       "      <td>2016-04-25</td>\n",
       "      <td>2017-04-28</td>\n",
       "      <td>2018-04-26</td>\n",
       "      <td>2019-04-24</td>\n",
       "      <td>2020-04-30</td>\n",
       "      <td>2021-04-22</td>\n",
       "      <td>2022-04-23</td>\n",
       "      <td>2023-04-15</td>\n",
       "      <td>5  1</td>\n",
       "      <td>NaN</td>\n",
       "    </tr>\n",
       "    <tr>\n",
       "      <th>...</th>\n",
       "      <td>...</td>\n",
       "      <td>...</td>\n",
       "      <td>...</td>\n",
       "      <td>...</td>\n",
       "      <td>...</td>\n",
       "      <td>...</td>\n",
       "      <td>...</td>\n",
       "      <td>...</td>\n",
       "      <td>...</td>\n",
       "      <td>...</td>\n",
       "      <td>...</td>\n",
       "      <td>...</td>\n",
       "      <td>...</td>\n",
       "      <td>...</td>\n",
       "      <td>...</td>\n",
       "      <td>...</td>\n",
       "      <td>...</td>\n",
       "      <td>...</td>\n",
       "      <td>...</td>\n",
       "      <td>...</td>\n",
       "      <td>...</td>\n",
       "    </tr>\n",
       "    <tr>\n",
       "      <th>97</th>\n",
       "      <td>Kumejima</td>\n",
       "      <td>False</td>\n",
       "      <td>NaN</td>\n",
       "      <td>NaN</td>\n",
       "      <td>NaN</td>\n",
       "      <td>NaN</td>\n",
       "      <td>NaN</td>\n",
       "      <td>NaN</td>\n",
       "      <td>NaN</td>\n",
       "      <td>NaN</td>\n",
       "      <td>...</td>\n",
       "      <td>NaN</td>\n",
       "      <td>NaN</td>\n",
       "      <td>NaN</td>\n",
       "      <td>NaN</td>\n",
       "      <td>NaN</td>\n",
       "      <td>NaN</td>\n",
       "      <td>NaN</td>\n",
       "      <td>NaN</td>\n",
       "      <td>-</td>\n",
       "      <td>Taiwan cherry (Prunus campanulata)</td>\n",
       "    </tr>\n",
       "    <tr>\n",
       "      <th>98</th>\n",
       "      <td>Naha</td>\n",
       "      <td>True</td>\n",
       "      <td>NaN</td>\n",
       "      <td>NaN</td>\n",
       "      <td>NaN</td>\n",
       "      <td>NaN</td>\n",
       "      <td>NaN</td>\n",
       "      <td>NaN</td>\n",
       "      <td>NaN</td>\n",
       "      <td>NaN</td>\n",
       "      <td>...</td>\n",
       "      <td>2016-01-21</td>\n",
       "      <td>2017-01-14</td>\n",
       "      <td>2018-01-10</td>\n",
       "      <td>2019-01-10</td>\n",
       "      <td>2020-01-06</td>\n",
       "      <td>2021-01-04</td>\n",
       "      <td>2022-01-11</td>\n",
       "      <td>2023-01-07</td>\n",
       "      <td>1 16</td>\n",
       "      <td>Taiwan cherry (Prunus campanulata)</td>\n",
       "    </tr>\n",
       "    <tr>\n",
       "      <th>99</th>\n",
       "      <td>Nago</td>\n",
       "      <td>False</td>\n",
       "      <td>NaN</td>\n",
       "      <td>NaN</td>\n",
       "      <td>NaN</td>\n",
       "      <td>NaN</td>\n",
       "      <td>NaN</td>\n",
       "      <td>NaN</td>\n",
       "      <td>NaN</td>\n",
       "      <td>NaN</td>\n",
       "      <td>...</td>\n",
       "      <td>NaN</td>\n",
       "      <td>NaN</td>\n",
       "      <td>NaN</td>\n",
       "      <td>NaN</td>\n",
       "      <td>NaN</td>\n",
       "      <td>NaN</td>\n",
       "      <td>NaN</td>\n",
       "      <td>NaN</td>\n",
       "      <td>-</td>\n",
       "      <td>Taiwan cherry (Prunus campanulata)</td>\n",
       "    </tr>\n",
       "    <tr>\n",
       "      <th>100</th>\n",
       "      <td>Iriomote Island</td>\n",
       "      <td>False</td>\n",
       "      <td>NaN</td>\n",
       "      <td>NaN</td>\n",
       "      <td>1955-01-07</td>\n",
       "      <td>NaN</td>\n",
       "      <td>1957-01-16</td>\n",
       "      <td>NaN</td>\n",
       "      <td>1959-01-12</td>\n",
       "      <td>1960-02-08</td>\n",
       "      <td>...</td>\n",
       "      <td>NaN</td>\n",
       "      <td>NaN</td>\n",
       "      <td>NaN</td>\n",
       "      <td>NaN</td>\n",
       "      <td>NaN</td>\n",
       "      <td>NaN</td>\n",
       "      <td>NaN</td>\n",
       "      <td>NaN</td>\n",
       "      <td>-</td>\n",
       "      <td>Taiwan cherry (Prunus campanulata)</td>\n",
       "    </tr>\n",
       "    <tr>\n",
       "      <th>101</th>\n",
       "      <td>Minami Daito Island</td>\n",
       "      <td>True</td>\n",
       "      <td>NaN</td>\n",
       "      <td>NaN</td>\n",
       "      <td>NaN</td>\n",
       "      <td>NaN</td>\n",
       "      <td>NaN</td>\n",
       "      <td>NaN</td>\n",
       "      <td>NaN</td>\n",
       "      <td>NaN</td>\n",
       "      <td>...</td>\n",
       "      <td>2016-02-09</td>\n",
       "      <td>2017-01-27</td>\n",
       "      <td>2018-01-07</td>\n",
       "      <td>2019-01-25</td>\n",
       "      <td>2020-02-06</td>\n",
       "      <td>NaN</td>\n",
       "      <td>2022-01-28</td>\n",
       "      <td>2023-02-07</td>\n",
       "      <td>1 20</td>\n",
       "      <td>Taiwan cherry (Prunus campanulata)</td>\n",
       "    </tr>\n",
       "  </tbody>\n",
       "</table>\n",
       "<p>102 rows × 75 columns</p>\n",
       "</div>"
      ],
      "text/plain": [
       "               Site Name  Currently Being Observed        1953        1954  \\\n",
       "0               Wakkanai                      True  1953-05-21  1954-05-17   \n",
       "1                  Rumoi                     False  1953-05-08  1954-05-11   \n",
       "2              Asahikawa                      True  1953-05-11  1954-05-13   \n",
       "3               Abashiri                      True  1953-05-24  1954-05-16   \n",
       "4                Sapporo                      True  1953-05-07  1954-05-04   \n",
       "..                   ...                       ...         ...         ...   \n",
       "97              Kumejima                     False         NaN         NaN   \n",
       "98                  Naha                      True         NaN         NaN   \n",
       "99                  Nago                     False         NaN         NaN   \n",
       "100      Iriomote Island                     False         NaN         NaN   \n",
       "101  Minami Daito Island                      True         NaN         NaN   \n",
       "\n",
       "           1955        1956        1957        1958        1959        1960  \\\n",
       "0    1955-05-17  1956-05-12  1957-05-18  1958-05-23  1959-05-03  1960-05-19   \n",
       "1    1955-05-13  1956-05-08  1957-05-10  1958-05-12         NaN         NaN   \n",
       "2    1955-05-09  1956-05-07  1957-05-09  1958-05-10  1959-05-08  1960-05-13   \n",
       "3    1955-05-18  1956-05-09         NaN         NaN  1959-05-03         NaN   \n",
       "4    1955-05-11  1956-05-04  1957-05-09         NaN  1959-05-05  1960-05-05   \n",
       "..          ...         ...         ...         ...         ...         ...   \n",
       "97          NaN         NaN         NaN         NaN         NaN         NaN   \n",
       "98          NaN         NaN         NaN         NaN         NaN         NaN   \n",
       "99          NaN         NaN         NaN         NaN         NaN         NaN   \n",
       "100  1955-01-07         NaN  1957-01-16         NaN  1959-01-12  1960-02-08   \n",
       "101         NaN         NaN         NaN         NaN         NaN         NaN   \n",
       "\n",
       "     ...        2016        2017        2018        2019        2020  \\\n",
       "0    ...  2016-05-13  2017-05-09  2018-05-12  2019-05-07  2020-05-10   \n",
       "1    ...         NaN         NaN         NaN         NaN         NaN   \n",
       "2    ...  2016-05-03  2017-05-03  2018-04-30  2019-05-01  2020-05-03   \n",
       "3    ...  2016-05-08  2017-05-05  2018-05-02  2019-05-05  2020-05-07   \n",
       "4    ...  2016-04-25  2017-04-28  2018-04-26  2019-04-24  2020-04-30   \n",
       "..   ...         ...         ...         ...         ...         ...   \n",
       "97   ...         NaN         NaN         NaN         NaN         NaN   \n",
       "98   ...  2016-01-21  2017-01-14  2018-01-10  2019-01-10  2020-01-06   \n",
       "99   ...         NaN         NaN         NaN         NaN         NaN   \n",
       "100  ...         NaN         NaN         NaN         NaN         NaN   \n",
       "101  ...  2016-02-09  2017-01-27  2018-01-07  2019-01-25  2020-02-06   \n",
       "\n",
       "           2021        2022        2023 30 Year Average 1981-2010  \\\n",
       "0    2021-05-08  2022-05-06  2023-05-03                      5 13   \n",
       "1           NaN         NaN         NaN                         -   \n",
       "2    2021-04-29  2022-04-26  2023-04-25                      5  4   \n",
       "3    2021-05-06  2022-04-27  2023-04-28                      5 10   \n",
       "4    2021-04-22  2022-04-23  2023-04-15                      5  1   \n",
       "..          ...         ...         ...                       ...   \n",
       "97          NaN         NaN         NaN                         -   \n",
       "98   2021-01-04  2022-01-11  2023-01-07                      1 16   \n",
       "99          NaN         NaN         NaN                         -   \n",
       "100         NaN         NaN         NaN                         -   \n",
       "101         NaN  2022-01-28  2023-02-07                      1 20   \n",
       "\n",
       "                                  Notes  \n",
       "0     Sargent cherry (Prunus sargentii)  \n",
       "1     Sargent cherry (Prunus sargentii)  \n",
       "2     Sargent cherry (Prunus sargentii)  \n",
       "3     Sargent cherry (Prunus sargentii)  \n",
       "4                                   NaN  \n",
       "..                                  ...  \n",
       "97   Taiwan cherry (Prunus campanulata)  \n",
       "98   Taiwan cherry (Prunus campanulata)  \n",
       "99   Taiwan cherry (Prunus campanulata)  \n",
       "100  Taiwan cherry (Prunus campanulata)  \n",
       "101  Taiwan cherry (Prunus campanulata)  \n",
       "\n",
       "[102 rows x 75 columns]"
      ]
     },
     "execution_count": 3,
     "metadata": {},
     "output_type": "execute_result"
    }
   ],
   "source": [
    "sakura_first_bloom = pd.read_csv('./data/sakura_first_bloom_dates.csv')\n",
    "sakura_first_bloom"
   ]
  },
  {
   "cell_type": "code",
   "execution_count": 4,
   "metadata": {},
   "outputs": [
    {
     "data": {
      "text/html": [
       "<div>\n",
       "<style scoped>\n",
       "    .dataframe tbody tr th:only-of-type {\n",
       "        vertical-align: middle;\n",
       "    }\n",
       "\n",
       "    .dataframe tbody tr th {\n",
       "        vertical-align: top;\n",
       "    }\n",
       "\n",
       "    .dataframe thead th {\n",
       "        text-align: right;\n",
       "    }\n",
       "</style>\n",
       "<table border=\"1\" class=\"dataframe\">\n",
       "  <thead>\n",
       "    <tr style=\"text-align: right;\">\n",
       "      <th></th>\n",
       "      <th>Site Name</th>\n",
       "      <th>Currently Being Observed</th>\n",
       "      <th>1953</th>\n",
       "      <th>1954</th>\n",
       "      <th>1955</th>\n",
       "      <th>1956</th>\n",
       "      <th>1957</th>\n",
       "      <th>1958</th>\n",
       "      <th>1959</th>\n",
       "      <th>1960</th>\n",
       "      <th>...</th>\n",
       "      <th>2016</th>\n",
       "      <th>2017</th>\n",
       "      <th>2018</th>\n",
       "      <th>2019</th>\n",
       "      <th>2020</th>\n",
       "      <th>2021</th>\n",
       "      <th>2022</th>\n",
       "      <th>2023</th>\n",
       "      <th>30 Year Average 1981-2010</th>\n",
       "      <th>Notes</th>\n",
       "    </tr>\n",
       "  </thead>\n",
       "  <tbody>\n",
       "    <tr>\n",
       "      <th>count</th>\n",
       "      <td>102</td>\n",
       "      <td>102</td>\n",
       "      <td>79</td>\n",
       "      <td>81</td>\n",
       "      <td>82</td>\n",
       "      <td>84</td>\n",
       "      <td>83</td>\n",
       "      <td>83</td>\n",
       "      <td>86</td>\n",
       "      <td>85</td>\n",
       "      <td>...</td>\n",
       "      <td>58</td>\n",
       "      <td>58</td>\n",
       "      <td>58</td>\n",
       "      <td>58</td>\n",
       "      <td>58</td>\n",
       "      <td>57</td>\n",
       "      <td>58</td>\n",
       "      <td>58</td>\n",
       "      <td>102</td>\n",
       "      <td>21</td>\n",
       "    </tr>\n",
       "    <tr>\n",
       "      <th>unique</th>\n",
       "      <td>102</td>\n",
       "      <td>2</td>\n",
       "      <td>42</td>\n",
       "      <td>32</td>\n",
       "      <td>37</td>\n",
       "      <td>39</td>\n",
       "      <td>36</td>\n",
       "      <td>37</td>\n",
       "      <td>38</td>\n",
       "      <td>40</td>\n",
       "      <td>...</td>\n",
       "      <td>29</td>\n",
       "      <td>30</td>\n",
       "      <td>31</td>\n",
       "      <td>29</td>\n",
       "      <td>29</td>\n",
       "      <td>31</td>\n",
       "      <td>34</td>\n",
       "      <td>31</td>\n",
       "      <td>30</td>\n",
       "      <td>4</td>\n",
       "    </tr>\n",
       "    <tr>\n",
       "      <th>top</th>\n",
       "      <td>Wakkanai</td>\n",
       "      <td>True</td>\n",
       "      <td>1953-03-26</td>\n",
       "      <td>1954-03-30</td>\n",
       "      <td>1955-03-29</td>\n",
       "      <td>1956-03-28</td>\n",
       "      <td>1957-04-08</td>\n",
       "      <td>1958-04-01</td>\n",
       "      <td>1959-03-23</td>\n",
       "      <td>1960-03-29</td>\n",
       "      <td>...</td>\n",
       "      <td>2016-03-23</td>\n",
       "      <td>2017-04-03</td>\n",
       "      <td>2018-03-23</td>\n",
       "      <td>2019-03-27</td>\n",
       "      <td>2020-03-23</td>\n",
       "      <td>2021-03-17</td>\n",
       "      <td>2022-03-21</td>\n",
       "      <td>2023-03-22</td>\n",
       "      <td>-</td>\n",
       "      <td>Sargent cherry (Prunus sargentii)</td>\n",
       "    </tr>\n",
       "    <tr>\n",
       "      <th>freq</th>\n",
       "      <td>1</td>\n",
       "      <td>58</td>\n",
       "      <td>6</td>\n",
       "      <td>7</td>\n",
       "      <td>8</td>\n",
       "      <td>7</td>\n",
       "      <td>7</td>\n",
       "      <td>9</td>\n",
       "      <td>10</td>\n",
       "      <td>10</td>\n",
       "      <td>...</td>\n",
       "      <td>12</td>\n",
       "      <td>6</td>\n",
       "      <td>5</td>\n",
       "      <td>7</td>\n",
       "      <td>6</td>\n",
       "      <td>5</td>\n",
       "      <td>6</td>\n",
       "      <td>9</td>\n",
       "      <td>44</td>\n",
       "      <td>10</td>\n",
       "    </tr>\n",
       "  </tbody>\n",
       "</table>\n",
       "<p>4 rows × 75 columns</p>\n",
       "</div>"
      ],
      "text/plain": [
       "       Site Name Currently Being Observed        1953        1954        1955  \\\n",
       "count        102                      102          79          81          82   \n",
       "unique       102                        2          42          32          37   \n",
       "top     Wakkanai                     True  1953-03-26  1954-03-30  1955-03-29   \n",
       "freq           1                       58           6           7           8   \n",
       "\n",
       "              1956        1957        1958        1959        1960  ...  \\\n",
       "count           84          83          83          86          85  ...   \n",
       "unique          39          36          37          38          40  ...   \n",
       "top     1956-03-28  1957-04-08  1958-04-01  1959-03-23  1960-03-29  ...   \n",
       "freq             7           7           9          10          10  ...   \n",
       "\n",
       "              2016        2017        2018        2019        2020  \\\n",
       "count           58          58          58          58          58   \n",
       "unique          29          30          31          29          29   \n",
       "top     2016-03-23  2017-04-03  2018-03-23  2019-03-27  2020-03-23   \n",
       "freq            12           6           5           7           6   \n",
       "\n",
       "              2021        2022        2023 30 Year Average 1981-2010  \\\n",
       "count           57          58          58                       102   \n",
       "unique          31          34          31                        30   \n",
       "top     2021-03-17  2022-03-21  2023-03-22                         -   \n",
       "freq             5           6           9                        44   \n",
       "\n",
       "                                    Notes  \n",
       "count                                  21  \n",
       "unique                                  4  \n",
       "top     Sargent cherry (Prunus sargentii)  \n",
       "freq                                   10  \n",
       "\n",
       "[4 rows x 75 columns]"
      ]
     },
     "execution_count": 4,
     "metadata": {},
     "output_type": "execute_result"
    }
   ],
   "source": [
    "sakura_first_bloom.describe()"
   ]
  },
  {
   "cell_type": "code",
   "execution_count": 5,
   "metadata": {},
   "outputs": [
    {
     "data": {
      "image/png": "[encoded data removed]",
      "text/plain": [
       "<Figure size 1200x600 with 1 Axes>"
      ]
     },
     "metadata": {},
     "output_type": "display_data"
    }
   ],
   "source": [
    "# Select Kyoto data and prepare it\n",
    "location = 'Kyoto'\n",
    "years = sakura_first_bloom.columns[3:-2].astype(int)  # Convert year columns to integers\n",
    "bloom_dates = pd.to_datetime(sakura_first_bloom.loc[sakura_first_bloom['Site Name'] == location, years.astype(str)].iloc[0])\n",
    "\n",
    "# Convert dates to day of year for easier trend analysis\n",
    "bloom_days = bloom_dates.dt.dayofyear\n",
    "\n",
    "# Calculate trend line\n",
    "slope, intercept, r_value, p_value, std_err = stats.linregress(years, bloom_days)\n",
    "trend_line = slope * years + intercept\n",
    "\n",
    "# Create the plot\n",
    "plt.figure(figsize=(12, 6))\n",
    "plt.scatter(years, bloom_days, color='pink', alpha=0.7, label='Bloom dates')\n",
    "plt.plot(years, trend_line, color='red', label=f'Trend (slope: {slope:.2f} days/year)')\n",
    "\n",
    "plt.title(f'Cherry Blossom Bloom Dates in {location} (1953-2023)')\n",
    "plt.xlabel('Year')\n",
    "plt.ylabel('Day of Year')\n",
    "plt.legend()\n",
    "\n",
    "# Customize x-axis ticks\n",
    "plt.xticks(np.arange(min(years), max(years)+2, 10), rotation=45)\n",
    "\n",
    "# Add text to explain the trend\n",
    "trend_text = f\"Trend: {slope:.2f} days later per year\"\n",
    "plt.text(0.05, 0.95, trend_text, transform=plt.gca().transAxes, \n",
    "         verticalalignment='top', bbox=dict(boxstyle='round', facecolor='white', alpha=0.8))\n",
    "\n",
    "plt.tight_layout()\n",
    "plt.grid(True)\n",
    "plt.show()"
   ]
  },
  {
   "cell_type": "code",
   "execution_count": 7,
   "metadata": {},
   "outputs": [
    {
     "data": {
      "text/html": [
       "<div>\n",
       "<style scoped>\n",
       "    .dataframe tbody tr th:only-of-type {\n",
       "        vertical-align: middle;\n",
       "    }\n",
       "\n",
       "    .dataframe tbody tr th {\n",
       "        vertical-align: top;\n",
       "    }\n",
       "\n",
       "    .dataframe thead th {\n",
       "        text-align: right;\n",
       "    }\n",
       "</style>\n",
       "<table border=\"1\" class=\"dataframe\">\n",
       "  <thead>\n",
       "    <tr style=\"text-align: right;\">\n",
       "      <th></th>\n",
       "      <th>Site</th>\n",
       "      <th>Year</th>\n",
       "      <th>BloomDay</th>\n",
       "    </tr>\n",
       "  </thead>\n",
       "  <tbody>\n",
       "    <tr>\n",
       "      <th>1954</th>\n",
       "      <td>Wakkanai</td>\n",
       "      <td>1954</td>\n",
       "      <td>137.0</td>\n",
       "    </tr>\n",
       "    <tr>\n",
       "      <th>1955</th>\n",
       "      <td>Wakkanai</td>\n",
       "      <td>1955</td>\n",
       "      <td>137.0</td>\n",
       "    </tr>\n",
       "    <tr>\n",
       "      <th>1956</th>\n",
       "      <td>Wakkanai</td>\n",
       "      <td>1956</td>\n",
       "      <td>133.0</td>\n",
       "    </tr>\n",
       "    <tr>\n",
       "      <th>1957</th>\n",
       "      <td>Wakkanai</td>\n",
       "      <td>1957</td>\n",
       "      <td>138.0</td>\n",
       "    </tr>\n",
       "    <tr>\n",
       "      <th>1958</th>\n",
       "      <td>Wakkanai</td>\n",
       "      <td>1958</td>\n",
       "      <td>143.0</td>\n",
       "    </tr>\n",
       "    <tr>\n",
       "      <th>...</th>\n",
       "      <td>...</td>\n",
       "      <td>...</td>\n",
       "      <td>...</td>\n",
       "    </tr>\n",
       "    <tr>\n",
       "      <th>2019</th>\n",
       "      <td>Minami Daito Island</td>\n",
       "      <td>2019</td>\n",
       "      <td>25.0</td>\n",
       "    </tr>\n",
       "    <tr>\n",
       "      <th>2020</th>\n",
       "      <td>Minami Daito Island</td>\n",
       "      <td>2020</td>\n",
       "      <td>37.0</td>\n",
       "    </tr>\n",
       "    <tr>\n",
       "      <th>2021</th>\n",
       "      <td>Minami Daito Island</td>\n",
       "      <td>2021</td>\n",
       "      <td>NaN</td>\n",
       "    </tr>\n",
       "    <tr>\n",
       "      <th>2022</th>\n",
       "      <td>Minami Daito Island</td>\n",
       "      <td>2022</td>\n",
       "      <td>28.0</td>\n",
       "    </tr>\n",
       "    <tr>\n",
       "      <th>2023</th>\n",
       "      <td>Minami Daito Island</td>\n",
       "      <td>2023</td>\n",
       "      <td>38.0</td>\n",
       "    </tr>\n",
       "  </tbody>\n",
       "</table>\n",
       "<p>7140 rows × 3 columns</p>\n",
       "</div>"
      ],
      "text/plain": [
       "                     Site  Year  BloomDay\n",
       "1954             Wakkanai  1954     137.0\n",
       "1955             Wakkanai  1955     137.0\n",
       "1956             Wakkanai  1956     133.0\n",
       "1957             Wakkanai  1957     138.0\n",
       "1958             Wakkanai  1958     143.0\n",
       "...                   ...   ...       ...\n",
       "2019  Minami Daito Island  2019      25.0\n",
       "2020  Minami Daito Island  2020      37.0\n",
       "2021  Minami Daito Island  2021       NaN\n",
       "2022  Minami Daito Island  2022      28.0\n",
       "2023  Minami Daito Island  2023      38.0\n",
       "\n",
       "[7140 rows x 3 columns]"
      ]
     },
     "execution_count": 7,
     "metadata": {},
     "output_type": "execute_result"
    }
   ],
   "source": [
    "# Prepare data for plotting\n",
    "all_sites = sakura_first_bloom['Site Name'].unique()\n",
    "city_data = []\n",
    "\n",
    "for site in all_sites:\n",
    "    site_bloom_dates = sakura_first_bloom[sakura_first_bloom['Site Name'] == site].iloc[0, 3:-2]\n",
    "    site_bloom_dates = pd.to_datetime(site_bloom_dates, format='%Y-%m-%d', errors='coerce')\n",
    "    city_data.append(pd.DataFrame({\n",
    "        'Site': site,\n",
    "        'Year': site_bloom_dates.index.astype(int),\n",
    "        'BloomDay': site_bloom_dates.dt.dayofyear\n",
    "    }))\n",
    "\n",
    "all_site_data = pd.concat(city_data)\n",
    "all_site_data"
   ]
  },
  {
   "cell_type": "code",
   "execution_count": 8,
   "metadata": {},
   "outputs": [
    {
     "data": {
      "text/html": [
       "<div>\n",
       "<style scoped>\n",
       "    .dataframe tbody tr th:only-of-type {\n",
       "        vertical-align: middle;\n",
       "    }\n",
       "\n",
       "    .dataframe tbody tr th {\n",
       "        vertical-align: top;\n",
       "    }\n",
       "\n",
       "    .dataframe thead th {\n",
       "        text-align: right;\n",
       "    }\n",
       "</style>\n",
       "<table border=\"1\" class=\"dataframe\">\n",
       "  <thead>\n",
       "    <tr style=\"text-align: right;\">\n",
       "      <th></th>\n",
       "      <th>Site</th>\n",
       "      <th>MeanBloomDay</th>\n",
       "      <th>MinBloomDay</th>\n",
       "      <th>MaxBloomDay</th>\n",
       "      <th>StartYear</th>\n",
       "      <th>EndYear</th>\n",
       "    </tr>\n",
       "  </thead>\n",
       "  <tbody>\n",
       "    <tr>\n",
       "      <th>0</th>\n",
       "      <td>Abashiri</td>\n",
       "      <td>130.923077</td>\n",
       "      <td>117.0</td>\n",
       "      <td>145.0</td>\n",
       "      <td>1954</td>\n",
       "      <td>2023</td>\n",
       "    </tr>\n",
       "    <tr>\n",
       "      <th>1</th>\n",
       "      <td>Aikawa</td>\n",
       "      <td>102.277778</td>\n",
       "      <td>92.0</td>\n",
       "      <td>118.0</td>\n",
       "      <td>1954</td>\n",
       "      <td>2023</td>\n",
       "    </tr>\n",
       "    <tr>\n",
       "      <th>2</th>\n",
       "      <td>Akita</td>\n",
       "      <td>108.528571</td>\n",
       "      <td>94.0</td>\n",
       "      <td>121.0</td>\n",
       "      <td>1954</td>\n",
       "      <td>2023</td>\n",
       "    </tr>\n",
       "    <tr>\n",
       "      <th>3</th>\n",
       "      <td>Aomori</td>\n",
       "      <td>114.558824</td>\n",
       "      <td>97.0</td>\n",
       "      <td>132.0</td>\n",
       "      <td>1954</td>\n",
       "      <td>2023</td>\n",
       "    </tr>\n",
       "    <tr>\n",
       "      <th>4</th>\n",
       "      <td>Asahikawa</td>\n",
       "      <td>126.357143</td>\n",
       "      <td>113.0</td>\n",
       "      <td>138.0</td>\n",
       "      <td>1954</td>\n",
       "      <td>2023</td>\n",
       "    </tr>\n",
       "    <tr>\n",
       "      <th>...</th>\n",
       "      <td>...</td>\n",
       "      <td>...</td>\n",
       "      <td>...</td>\n",
       "      <td>...</td>\n",
       "      <td>...</td>\n",
       "      <td>...</td>\n",
       "    </tr>\n",
       "    <tr>\n",
       "      <th>97</th>\n",
       "      <td>Yakushima</td>\n",
       "      <td>84.000000</td>\n",
       "      <td>84.0</td>\n",
       "      <td>84.0</td>\n",
       "      <td>1954</td>\n",
       "      <td>2023</td>\n",
       "    </tr>\n",
       "    <tr>\n",
       "      <th>98</th>\n",
       "      <td>Yamagata</td>\n",
       "      <td>105.171429</td>\n",
       "      <td>90.0</td>\n",
       "      <td>120.0</td>\n",
       "      <td>1954</td>\n",
       "      <td>2023</td>\n",
       "    </tr>\n",
       "    <tr>\n",
       "      <th>99</th>\n",
       "      <td>Yokohama</td>\n",
       "      <td>85.657143</td>\n",
       "      <td>74.0</td>\n",
       "      <td>101.0</td>\n",
       "      <td>1954</td>\n",
       "      <td>2023</td>\n",
       "    </tr>\n",
       "    <tr>\n",
       "      <th>100</th>\n",
       "      <td>Yonago</td>\n",
       "      <td>92.254545</td>\n",
       "      <td>79.0</td>\n",
       "      <td>105.0</td>\n",
       "      <td>1954</td>\n",
       "      <td>2023</td>\n",
       "    </tr>\n",
       "    <tr>\n",
       "      <th>101</th>\n",
       "      <td>Yonaguni Island</td>\n",
       "      <td>30.058824</td>\n",
       "      <td>18.0</td>\n",
       "      <td>53.0</td>\n",
       "      <td>1954</td>\n",
       "      <td>2023</td>\n",
       "    </tr>\n",
       "  </tbody>\n",
       "</table>\n",
       "<p>102 rows × 6 columns</p>\n",
       "</div>"
      ],
      "text/plain": [
       "                Site  MeanBloomDay  MinBloomDay  MaxBloomDay  StartYear  \\\n",
       "0           Abashiri    130.923077        117.0        145.0       1954   \n",
       "1             Aikawa    102.277778         92.0        118.0       1954   \n",
       "2              Akita    108.528571         94.0        121.0       1954   \n",
       "3             Aomori    114.558824         97.0        132.0       1954   \n",
       "4          Asahikawa    126.357143        113.0        138.0       1954   \n",
       "..               ...           ...          ...          ...        ...   \n",
       "97         Yakushima     84.000000         84.0         84.0       1954   \n",
       "98          Yamagata    105.171429         90.0        120.0       1954   \n",
       "99          Yokohama     85.657143         74.0        101.0       1954   \n",
       "100           Yonago     92.254545         79.0        105.0       1954   \n",
       "101  Yonaguni Island     30.058824         18.0         53.0       1954   \n",
       "\n",
       "     EndYear  \n",
       "0       2023  \n",
       "1       2023  \n",
       "2       2023  \n",
       "3       2023  \n",
       "4       2023  \n",
       "..       ...  \n",
       "97      2023  \n",
       "98      2023  \n",
       "99      2023  \n",
       "100     2023  \n",
       "101     2023  \n",
       "\n",
       "[102 rows x 6 columns]"
      ]
     },
     "execution_count": 8,
     "metadata": {},
     "output_type": "execute_result"
    }
   ],
   "source": [
    "# Calculate average bloom day and trend for each site\n",
    "site_stats = all_site_data.groupby('Site').agg({\n",
    "    'BloomDay': ['mean', 'min', 'max'],\n",
    "    'Year': ['min', 'max']\n",
    "}).reset_index()\n",
    "\n",
    "site_stats.columns = ['Site', 'MeanBloomDay', 'MinBloomDay', 'MaxBloomDay', 'StartYear', 'EndYear']\n",
    "site_stats\n"
   ]
  },
  {
   "cell_type": "code",
   "execution_count": 10,
   "metadata": {},
   "outputs": [
    {
     "data": {
      "application/vnd.plotly.v1+json": {
       "config": {
        "plotlyServerURL": "https://plot.ly"
       },
       "data": [
        {
         "marker": {
          "color": "pink",
          "size": 10
         },
         "mode": "markers",
         "name": "Average Bloom Day",
         "type": "scatter",
         "x": [
          0,
          2.5,
          5,
          7.5,
          10,
          12.5,
          15,
          17.5,
          20,
          22.5,
          25,
          27.5,
          30,
          32.5,
          35,
          37.5,
          40,
          42.5,
          45,
          47.5,
          50,
          52.5,
          55,
          57.5,
          60,
          62.5,
          65,
          67.5,
          70,
          72.5,
          75,
          77.5,
          80,
          82.5,
          85,
          87.5,
          90,
          92.5,
          95,
          97.5,
          100,
          102.5,
          105,
          107.5,
          110,
          112.5,
          115,
          117.5,
          120,
          122.5,
          125,
          127.5,
          130,
          132.5,
          135,
          137.5,
          140,
          142.5,
          145,
          147.5,
          150,
          152.5,
          155,
          157.5,
          160,
          162.5,
          165,
          167.5,
          170,
          172.5,
          175,
          177.5,
          180,
          182.5,
          185,
          187.5,
          190,
          192.5,
          195,
          197.5,
          200,
          202.5,
          205,
          207.5,
          210,
          212.5,
          215,
          217.5,
          220,
          222.5,
          225,
          227.5,
          230,
          232.5,
          235,
          237.5,
          240,
          242.5,
          245,
          247.5,
          250,
          252.5
         ],
         "y": [
          130.92307692307693,
          102.27777777777777,
          108.52857142857142,
          114.55882352941177,
          126.35714285714286,
          89.57142857142857,
          122.45283018867924,
          87.07142857142857,
          93.82857142857142,
          84.05714285714286,
          98.71428571428571,
          86.77142857142857,
          91.875,
          114.51851851851852,
          121.35714285714286,
          88.25925925925925,
          88.13461538461539,
          92.94285714285714,
          128.65853658536585,
          86.74285714285715,
          96.0754716981132,
          28.61904761904762,
          38.56716417910448,
          126.60377358490567,
          85.37142857142857,
          94.22857142857143,
          88.51428571428572,
          81.97142857142858,
          87.41428571428571,
          88.71428571428571,
          83.1,
          37.97142857142857,
          136.30769230769232,
          131.3653846153846,
          88.35714285714286,
          89.94285714285714,
          93.66666666666667,
          90.9,
          102,
          85.71428571428571,
          87.19642857142857,
          20.352941176470587,
          92.37142857142857,
          87.37142857142857,
          109.42592592592592,
          25.846153846153847,
          82.84905660377359,
          131.71153846153845,
          110.91428571428571,
          126.45714285714286,
          102.42857142857143,
          83.54285714285714,
          156.19354838709677,
          86.1,
          30.36,
          89.4,
          19.586206896551722,
          139.04,
          100.04285714285714,
          84.27027027027027,
          125,
          85.57142857142857,
          89.01428571428572,
          97.41818181818182,
          88.02857142857142,
          87.72549019607843,
          87.29629629629629,
          130.8846153846154,
          84.3,
          94.72727272727273,
          105.26785714285714,
          123,
          100.58571428571429,
          87.3,
          112.975,
          86.47058823529412,
          105.02272727272727,
          85.21428571428571,
          89.20408163265306,
          99.24074074074075,
          88.12857142857143,
          105.90384615384616,
          86.18367346938776,
          89.6842105263158,
          87.6,
          85.34285714285714,
          90.62857142857143,
          96.05714285714286,
          94.38888888888889,
          90.12857142857143,
          93.9423076923077,
          130.25,
          92.05714285714286,
          83.74358974358974,
          99.89473684210526,
          85.42857142857143,
          134.33333333333334,
          84,
          105.17142857142858,
          85.65714285714286,
          92.25454545454545,
          30.058823529411764
         ]
        },
        {
         "line": {
          "color": "gray",
          "width": 0
         },
         "mode": "lines",
         "showlegend": false,
         "type": "scatter",
         "x": [
          0,
          2.5,
          5,
          7.5,
          10,
          12.5,
          15,
          17.5,
          20,
          22.5,
          25,
          27.5,
          30,
          32.5,
          35,
          37.5,
          40,
          42.5,
          45,
          47.5,
          50,
          52.5,
          55,
          57.5,
          60,
          62.5,
          65,
          67.5,
          70,
          72.5,
          75,
          77.5,
          80,
          82.5,
          85,
          87.5,
          90,
          92.5,
          95,
          97.5,
          100,
          102.5,
          105,
          107.5,
          110,
          112.5,
          115,
          117.5,
          120,
          122.5,
          125,
          127.5,
          130,
          132.5,
          135,
          137.5,
          140,
          142.5,
          145,
          147.5,
          150,
          152.5,
          155,
          157.5,
          160,
          162.5,
          165,
          167.5,
          170,
          172.5,
          175,
          177.5,
          180,
          182.5,
          185,
          187.5,
          190,
          192.5,
          195,
          197.5,
          200,
          202.5,
          205,
          207.5,
          210,
          212.5,
          215,
          217.5,
          220,
          222.5,
          225,
          227.5,
          230,
          232.5,
          235,
          237.5,
          240,
          242.5,
          245,
          247.5,
          250,
          252.5
         ],
         "y": [
          117,
          92,
          94,
          97,
          113,
          78,
          108,
          78,
          81,
          71,
          83,
          75,
          78,
          102,
          104,
          76,
          76,
          81,
          116,
          70,
          86,
          4,
          1,
          112,
          74,
          82,
          79,
          69,
          76,
          76,
          74,
          2,
          121,
          115,
          75,
          77,
          84,
          73,
          89,
          73,
          76,
          4,
          79,
          75,
          98,
          5,
          72,
          118,
          93,
          111,
          87,
          73,
          1,
          76,
          2,
          79,
          1,
          128,
          86,
          75,
          110,
          73,
          79,
          84,
          78,
          76,
          76,
          116,
          76,
          84,
          94,
          105,
          85,
          75,
          103,
          69,
          96,
          74,
          78,
          89,
          74,
          95,
          69,
          78,
          77,
          73,
          78,
          81,
          84,
          79,
          83,
          118,
          77,
          74,
          88,
          75,
          119,
          84,
          90,
          74,
          79,
          18
         ]
        },
        {
         "fill": "tonexty",
         "fillcolor": "rgba(128, 128, 128, 0.2)",
         "line": {
          "color": "gray",
          "width": 0
         },
         "mode": "lines",
         "name": "Bloom Day Range",
         "type": "scatter",
         "x": [
          0,
          2.5,
          5,
          7.5,
          10,
          12.5,
          15,
          17.5,
          20,
          22.5,
          25,
          27.5,
          30,
          32.5,
          35,
          37.5,
          40,
          42.5,
          45,
          47.5,
          50,
          52.5,
          55,
          57.5,
          60,
          62.5,
          65,
          67.5,
          70,
          72.5,
          75,
          77.5,
          80,
          82.5,
          85,
          87.5,
          90,
          92.5,
          95,
          97.5,
          100,
          102.5,
          105,
          107.5,
          110,
          112.5,
          115,
          117.5,
          120,
          122.5,
          125,
          127.5,
          130,
          132.5,
          135,
          137.5,
          140,
          142.5,
          145,
          147.5,
          150,
          152.5,
          155,
          157.5,
          160,
          162.5,
          165,
          167.5,
          170,
          172.5,
          175,
          177.5,
          180,
          182.5,
          185,
          187.5,
          190,
          192.5,
          195,
          197.5,
          200,
          202.5,
          205,
          207.5,
          210,
          212.5,
          215,
          217.5,
          220,
          222.5,
          225,
          227.5,
          230,
          232.5,
          235,
          237.5,
          240,
          242.5,
          245,
          247.5,
          250,
          252.5
         ],
         "y": [
          145,
          118,
          121,
          132,
          138,
          107,
          140,
          94,
          108,
          96,
          116,
          103,
          113,
          139,
          144,
          100,
          97,
          106,
          149,
          99,
          110,
          355,
          362,
          138,
          95,
          108,
          101,
          92,
          103,
          105,
          92,
          366,
          151,
          143,
          100,
          106,
          107,
          104,
          115,
          96,
          97,
          40,
          111,
          95,
          128,
          364,
          93,
          148,
          127,
          146,
          117,
          92,
          366,
          102,
          365,
          103,
          31,
          151,
          117,
          93,
          140,
          96,
          101,
          116,
          101,
          98,
          97,
          143,
          93,
          108,
          118,
          135,
          119,
          97,
          127,
          96,
          119,
          97,
          101,
          116,
          99,
          119,
          108,
          100,
          97,
          102,
          104,
          111,
          107,
          103,
          108,
          146,
          109,
          93,
          115,
          97,
          146,
          84,
          120,
          101,
          105,
          53
         ]
        }
       ],
       "layout": {
        "annotations": [
         {
          "font": {
           "size": 16
          },
          "showarrow": false,
          "text": "Cherry Blossom Bloom Dates in Japanese Sites (1953-2023)",
          "x": 0.5,
          "xanchor": "center",
          "xref": "paper",
          "y": 1,
          "yanchor": "bottom",
          "yref": "paper"
         }
        ],
        "height": 800,
        "legend": {
         "font": {
          "size": 14
         }
        },
        "margin": {
         "b": 150,
         "l": 50,
         "r": 50,
         "t": 100
        },
        "paper_bgcolor": "white",
        "plot_bgcolor": "white",
        "showlegend": true,
        "template": {
         "data": {
          "bar": [
           {
            "error_x": {
             "color": "#2a3f5f"
            },
            "error_y": {
             "color": "#2a3f5f"
            },
            "marker": {
             "line": {
              "color": "#E5ECF6",
              "width": 0.5
             },
             "pattern": {
              "fillmode": "overlay",
              "size": 10,
              "solidity": 0.2
             }
            },
            "type": "bar"
           }
          ],
          "barpolar": [
           {
            "marker": {
             "line": {
              "color": "#E5ECF6",
              "width": 0.5
             },
             "pattern": {
              "fillmode": "overlay",
              "size": 10,
              "solidity": 0.2
             }
            },
            "type": "barpolar"
           }
          ],
          "carpet": [
           {
            "aaxis": {
             "endlinecolor": "#2a3f5f",
             "gridcolor": "white",
             "linecolor": "white",
             "minorgridcolor": "white",
             "startlinecolor": "#2a3f5f"
            },
            "baxis": {
             "endlinecolor": "#2a3f5f",
             "gridcolor": "white",
             "linecolor": "white",
             "minorgridcolor": "white",
             "startlinecolor": "#2a3f5f"
            },
            "type": "carpet"
           }
          ],
          "choropleth": [
           {
            "colorbar": {
             "outlinewidth": 0,
             "ticks": ""
            },
            "type": "choropleth"
           }
          ],
          "contour": [
           {
            "colorbar": {
             "outlinewidth": 0,
             "ticks": ""
            },
            "colorscale": [
             [
              0,
              "#0d0887"
             ],
             [
              0.1111111111111111,
              "#46039f"
             ],
             [
              0.2222222222222222,
              "#7201a8"
             ],
             [
              0.3333333333333333,
              "#9c179e"
             ],
             [
              0.4444444444444444,
              "#bd3786"
             ],
             [
              0.5555555555555556,
              "#d8576b"
             ],
             [
              0.6666666666666666,
              "#ed7953"
             ],
             [
              0.7777777777777778,
              "#fb9f3a"
             ],
             [
              0.8888888888888888,
              "#fdca26"
             ],
             [
              1,
              "#f0f921"
             ]
            ],
            "type": "contour"
           }
          ],
          "contourcarpet": [
           {
            "colorbar": {
             "outlinewidth": 0,
             "ticks": ""
            },
            "type": "contourcarpet"
           }
          ],
          "heatmap": [
           {
            "colorbar": {
             "outlinewidth": 0,
             "ticks": ""
            },
            "colorscale": [
             [
              0,
              "#0d0887"
             ],
             [
              0.1111111111111111,
              "#46039f"
             ],
             [
              0.2222222222222222,
              "#7201a8"
             ],
             [
              0.3333333333333333,
              "#9c179e"
             ],
             [
              0.4444444444444444,
              "#bd3786"
             ],
             [
              0.5555555555555556,
              "#d8576b"
             ],
             [
              0.6666666666666666,
              "#ed7953"
             ],
             [
              0.7777777777777778,
              "#fb9f3a"
             ],
             [
              0.8888888888888888,
              "#fdca26"
             ],
             [
              1,
              "#f0f921"
             ]
            ],
            "type": "heatmap"
           }
          ],
          "heatmapgl": [
           {
            "colorbar": {
             "outlinewidth": 0,
             "ticks": ""
            },
            "colorscale": [
             [
              0,
              "#0d0887"
             ],
             [
              0.1111111111111111,
              "#46039f"
             ],
             [
              0.2222222222222222,
              "#7201a8"
             ],
             [
              0.3333333333333333,
              "#9c179e"
             ],
             [
              0.4444444444444444,
              "#bd3786"
             ],
             [
              0.5555555555555556,
              "#d8576b"
             ],
             [
              0.6666666666666666,
              "#ed7953"
             ],
             [
              0.7777777777777778,
              "#fb9f3a"
             ],
             [
              0.8888888888888888,
              "#fdca26"
             ],
             [
              1,
              "#f0f921"
             ]
            ],
            "type": "heatmapgl"
           }
          ],
          "histogram": [
           {
            "marker": {
             "pattern": {
              "fillmode": "overlay",
              "size": 10,
              "solidity": 0.2
             }
            },
            "type": "histogram"
           }
          ],
          "histogram2d": [
           {
            "colorbar": {
             "outlinewidth": 0,
             "ticks": ""
            },
            "colorscale": [
             [
              0,
              "#0d0887"
             ],
             [
              0.1111111111111111,
              "#46039f"
             ],
             [
              0.2222222222222222,
              "#7201a8"
             ],
             [
              0.3333333333333333,
              "#9c179e"
             ],
             [
              0.4444444444444444,
              "#bd3786"
             ],
             [
              0.5555555555555556,
              "#d8576b"
             ],
             [
              0.6666666666666666,
              "#ed7953"
             ],
             [
              0.7777777777777778,
              "#fb9f3a"
             ],
             [
              0.8888888888888888,
              "#fdca26"
             ],
             [
              1,
              "#f0f921"
             ]
            ],
            "type": "histogram2d"
           }
          ],
          "histogram2dcontour": [
           {
            "colorbar": {
             "outlinewidth": 0,
             "ticks": ""
            },
            "colorscale": [
             [
              0,
              "#0d0887"
             ],
             [
              0.1111111111111111,
              "#46039f"
             ],
             [
              0.2222222222222222,
              "#7201a8"
             ],
             [
              0.3333333333333333,
              "#9c179e"
             ],
             [
              0.4444444444444444,
              "#bd3786"
             ],
             [
              0.5555555555555556,
              "#d8576b"
             ],
             [
              0.6666666666666666,
              "#ed7953"
             ],
             [
              0.7777777777777778,
              "#fb9f3a"
             ],
             [
              0.8888888888888888,
              "#fdca26"
             ],
             [
              1,
              "#f0f921"
             ]
            ],
            "type": "histogram2dcontour"
           }
          ],
          "mesh3d": [
           {
            "colorbar": {
             "outlinewidth": 0,
             "ticks": ""
            },
            "type": "mesh3d"
           }
          ],
          "parcoords": [
           {
            "line": {
             "colorbar": {
              "outlinewidth": 0,
              "ticks": ""
             }
            },
            "type": "parcoords"
           }
          ],
          "pie": [
           {
            "automargin": true,
            "type": "pie"
           }
          ],
          "scatter": [
           {
            "fillpattern": {
             "fillmode": "overlay",
             "size": 10,
             "solidity": 0.2
            },
            "type": "scatter"
           }
          ],
          "scatter3d": [
           {
            "line": {
             "colorbar": {
              "outlinewidth": 0,
              "ticks": ""
             }
            },
            "marker": {
             "colorbar": {
              "outlinewidth": 0,
              "ticks": ""
             }
            },
            "type": "scatter3d"
           }
          ],
          "scattercarpet": [
           {
            "marker": {
             "colorbar": {
              "outlinewidth": 0,
              "ticks": ""
             }
            },
            "type": "scattercarpet"
           }
          ],
          "scattergeo": [
           {
            "marker": {
             "colorbar": {
              "outlinewidth": 0,
              "ticks": ""
             }
            },
            "type": "scattergeo"
           }
          ],
          "scattergl": [
           {
            "marker": {
             "colorbar": {
              "outlinewidth": 0,
              "ticks": ""
             }
            },
            "type": "scattergl"
           }
          ],
          "scattermapbox": [
           {
            "marker": {
             "colorbar": {
              "outlinewidth": 0,
              "ticks": ""
             }
            },
            "type": "scattermapbox"
           }
          ],
          "scatterpolar": [
           {
            "marker": {
             "colorbar": {
              "outlinewidth": 0,
              "ticks": ""
             }
            },
            "type": "scatterpolar"
           }
          ],
          "scatterpolargl": [
           {
            "marker": {
             "colorbar": {
              "outlinewidth": 0,
              "ticks": ""
             }
            },
            "type": "scatterpolargl"
           }
          ],
          "scatterternary": [
           {
            "marker": {
             "colorbar": {
              "outlinewidth": 0,
              "ticks": ""
             }
            },
            "type": "scatterternary"
           }
          ],
          "surface": [
           {
            "colorbar": {
             "outlinewidth": 0,
             "ticks": ""
            },
            "colorscale": [
             [
              0,
              "#0d0887"
             ],
             [
              0.1111111111111111,
              "#46039f"
             ],
             [
              0.2222222222222222,
              "#7201a8"
             ],
             [
              0.3333333333333333,
              "#9c179e"
             ],
             [
              0.4444444444444444,
              "#bd3786"
             ],
             [
              0.5555555555555556,
              "#d8576b"
             ],
             [
              0.6666666666666666,
              "#ed7953"
             ],
             [
              0.7777777777777778,
              "#fb9f3a"
             ],
             [
              0.8888888888888888,
              "#fdca26"
             ],
             [
              1,
              "#f0f921"
             ]
            ],
            "type": "surface"
           }
          ],
          "table": [
           {
            "cells": {
             "fill": {
              "color": "#EBF0F8"
             },
             "line": {
              "color": "white"
             }
            },
            "header": {
             "fill": {
              "color": "#C8D4E3"
             },
             "line": {
              "color": "white"
             }
            },
            "type": "table"
           }
          ]
         },
         "layout": {
          "annotationdefaults": {
           "arrowcolor": "#2a3f5f",
           "arrowhead": 0,
           "arrowwidth": 1
          },
          "autotypenumbers": "strict",
          "coloraxis": {
           "colorbar": {
            "outlinewidth": 0,
            "ticks": ""
           }
          },
          "colorscale": {
           "diverging": [
            [
             0,
             "#8e0152"
            ],
            [
             0.1,
             "#c51b7d"
            ],
            [
             0.2,
             "#de77ae"
            ],
            [
             0.3,
             "#f1b6da"
            ],
            [
             0.4,
             "#fde0ef"
            ],
            [
             0.5,
             "#f7f7f7"
            ],
            [
             0.6,
             "#e6f5d0"
            ],
            [
             0.7,
             "#b8e186"
            ],
            [
             0.8,
             "#7fbc41"
            ],
            [
             0.9,
             "#4d9221"
            ],
            [
             1,
             "#276419"
            ]
           ],
           "sequential": [
            [
             0,
             "#0d0887"
            ],
            [
             0.1111111111111111,
             "#46039f"
            ],
            [
             0.2222222222222222,
             "#7201a8"
            ],
            [
             0.3333333333333333,
             "#9c179e"
            ],
            [
             0.4444444444444444,
             "#bd3786"
            ],
            [
             0.5555555555555556,
             "#d8576b"
            ],
            [
             0.6666666666666666,
             "#ed7953"
            ],
            [
             0.7777777777777778,
             "#fb9f3a"
            ],
            [
             0.8888888888888888,
             "#fdca26"
            ],
            [
             1,
             "#f0f921"
            ]
           ],
           "sequentialminus": [
            [
             0,
             "#0d0887"
            ],
            [
             0.1111111111111111,
             "#46039f"
            ],
            [
             0.2222222222222222,
             "#7201a8"
            ],
            [
             0.3333333333333333,
             "#9c179e"
            ],
            [
             0.4444444444444444,
             "#bd3786"
            ],
            [
             0.5555555555555556,
             "#d8576b"
            ],
            [
             0.6666666666666666,
             "#ed7953"
            ],
            [
             0.7777777777777778,
             "#fb9f3a"
            ],
            [
             0.8888888888888888,
             "#fdca26"
            ],
            [
             1,
             "#f0f921"
            ]
           ]
          },
          "colorway": [
           "#636efa",
           "#EF553B",
           "#00cc96",
           "#ab63fa",
           "#FFA15A",
           "#19d3f3",
           "#FF6692",
           "#B6E880",
           "#FF97FF",
           "#FECB52"
          ],
          "font": {
           "color": "#2a3f5f"
          },
          "geo": {
           "bgcolor": "white",
           "lakecolor": "white",
           "landcolor": "#E5ECF6",
           "showlakes": true,
           "showland": true,
           "subunitcolor": "white"
          },
          "hoverlabel": {
           "align": "left"
          },
          "hovermode": "closest",
          "mapbox": {
           "style": "light"
          },
          "paper_bgcolor": "white",
          "plot_bgcolor": "#E5ECF6",
          "polar": {
           "angularaxis": {
            "gridcolor": "white",
            "linecolor": "white",
            "ticks": ""
           },
           "bgcolor": "#E5ECF6",
           "radialaxis": {
            "gridcolor": "white",
            "linecolor": "white",
            "ticks": ""
           }
          },
          "scene": {
           "xaxis": {
            "backgroundcolor": "#E5ECF6",
            "gridcolor": "white",
            "gridwidth": 2,
            "linecolor": "white",
            "showbackground": true,
            "ticks": "",
            "zerolinecolor": "white"
           },
           "yaxis": {
            "backgroundcolor": "#E5ECF6",
            "gridcolor": "white",
            "gridwidth": 2,
            "linecolor": "white",
            "showbackground": true,
            "ticks": "",
            "zerolinecolor": "white"
           },
           "zaxis": {
            "backgroundcolor": "#E5ECF6",
            "gridcolor": "white",
            "gridwidth": 2,
            "linecolor": "white",
            "showbackground": true,
            "ticks": "",
            "zerolinecolor": "white"
           }
          },
          "shapedefaults": {
           "line": {
            "color": "#2a3f5f"
           }
          },
          "ternary": {
           "aaxis": {
            "gridcolor": "white",
            "linecolor": "white",
            "ticks": ""
           },
           "baxis": {
            "gridcolor": "white",
            "linecolor": "white",
            "ticks": ""
           },
           "bgcolor": "#E5ECF6",
           "caxis": {
            "gridcolor": "white",
            "linecolor": "white",
            "ticks": ""
           }
          },
          "title": {
           "x": 0.05
          },
          "xaxis": {
           "automargin": true,
           "gridcolor": "white",
           "linecolor": "white",
           "ticks": "",
           "title": {
            "standoff": 15
           },
           "zerolinecolor": "white",
           "zerolinewidth": 2
          },
          "yaxis": {
           "automargin": true,
           "gridcolor": "white",
           "linecolor": "white",
           "ticks": "",
           "title": {
            "standoff": 15
           },
           "zerolinecolor": "white",
           "zerolinewidth": 2
          }
         }
        },
        "title": {
         "font": {
          "size": 24
         },
         "text": "Cherry Blossom Bloom Dates in Japanese Sites (1953-2023)"
        },
        "width": 1500,
        "xaxis": {
         "anchor": "y",
         "domain": [
          0,
          1
         ],
         "range": [
          -1,
          253.5
         ],
         "tickangle": 70,
         "tickfont": {
          "size": 12
         },
         "tickmode": "array",
         "ticktext": [
          "Abashiri",
          "Aikawa",
          "Akita",
          "Aomori",
          "Asahikawa",
          "Choshi",
          "Esashi",
          "Fukue",
          "Fukui",
          "Fukuoka",
          "Fukushima",
          "Gifu",
          "Hachijojima",
          "Hachinohe",
          "Hakodate",
          "Hamada",
          "Hamamatsu",
          "Hikone",
          "Hiroo",
          "Hiroshima",
          "Iida",
          "Iriomote Island",
          "Ishigaki Island",
          "Iwamizawa",
          "Kagoshima",
          "Kanazawa",
          "Kobe",
          "Kochi",
          "Kofu",
          "Kumagaya",
          "Kumamoto",
          "Kumejima",
          "Kushiro",
          "Kutchan",
          "Kyoto",
          "Maebashi",
          "Maizuru",
          "Matsue",
          "Matsumoto",
          "Matsuyama",
          "Mikihara",
          "Minami Daito Island",
          "Mito",
          "Miyakejima",
          "Miyako",
          "Miyakojima",
          "Miyazaki",
          "Monbetsu",
          "Morioka",
          "Muroran",
          "Nagano",
          "Nagasaki",
          "Nago",
          "Nagoya",
          "Naha",
          "Nara",
          "Naze",
          "Nemuro",
          "Niigata",
          "Nobeoka",
          "Obihiro",
          "Oita",
          "Okayama",
          "Onahama",
          "Osaka",
          "Oshima",
          "Owashi",
          "Rumoi",
          "Saga",
          "Saigo",
          "Sakata",
          "Sapporo",
          "Sendai",
          "Shimonoseki",
          "Shinjo",
          "Shio Misaki",
          "Shirakawa",
          "Shizuoka",
          "Sumoto",
          "Takada",
          "Takamatsu",
          "Takayama",
          "Tanegashima",
          "Tateyama",
          "Tokushima",
          "Tokyo Japan",
          "Tottori",
          "Toyama",
          "Toyooka",
          "Tsu",
          "Tsuruga",
          "Urakawa",
          "Utsunomiya",
          "Uwajima",
          "Wajima",
          "Wakayama",
          "Wakkanai",
          "Yakushima",
          "Yamagata",
          "Yokohama",
          "Yonago",
          "Yonaguni Island"
         ],
         "tickvals": [
          0,
          2.5,
          5,
          7.5,
          10,
          12.5,
          15,
          17.5,
          20,
          22.5,
          25,
          27.5,
          30,
          32.5,
          35,
          37.5,
          40,
          42.5,
          45,
          47.5,
          50,
          52.5,
          55,
          57.5,
          60,
          62.5,
          65,
          67.5,
          70,
          72.5,
          75,
          77.5,
          80,
          82.5,
          85,
          87.5,
          90,
          92.5,
          95,
          97.5,
          100,
          102.5,
          105,
          107.5,
          110,
          112.5,
          115,
          117.5,
          120,
          122.5,
          125,
          127.5,
          130,
          132.5,
          135,
          137.5,
          140,
          142.5,
          145,
          147.5,
          150,
          152.5,
          155,
          157.5,
          160,
          162.5,
          165,
          167.5,
          170,
          172.5,
          175,
          177.5,
          180,
          182.5,
          185,
          187.5,
          190,
          192.5,
          195,
          197.5,
          200,
          202.5,
          205,
          207.5,
          210,
          212.5,
          215,
          217.5,
          220,
          222.5,
          225,
          227.5,
          230,
          232.5,
          235,
          237.5,
          240,
          242.5,
          245,
          247.5,
          250,
          252.5
         ],
         "title": {
          "font": {
           "size": 22
          },
          "text": "City"
         }
        },
        "yaxis": {
         "anchor": "x",
         "domain": [
          0,
          1
         ],
         "gridcolor": "lightgray",
         "griddash": "dash",
         "gridwidth": 1,
         "tickfont": {
          "size": 14
         },
         "title": {
          "font": {
           "size": 22
          },
          "text": "Day of Year"
         }
        }
       }
      }
     },
     "metadata": {},
     "output_type": "display_data"
    }
   ],
   "source": [
    "import plotly.graph_objects as go\n",
    "from plotly.subplots import make_subplots\n",
    "\n",
    "# Create custom x-coordinates with increased spacing\n",
    "x_coords = np.arange(len(site_stats)) * 2.5  # Increased multiplier from 1.5 to 2.5\n",
    "\n",
    "# Create the plot\n",
    "fig = make_subplots(rows=1, cols=1, subplot_titles=['Cherry Blossom Bloom Dates in Japanese Sites (1953-2023)'])\n",
    "\n",
    "# Add scatter plot for average bloom day\n",
    "fig.add_trace(\n",
    "    go.Scatter(\n",
    "        x=x_coords,\n",
    "        y=site_stats['MeanBloomDay'],\n",
    "        mode='markers',\n",
    "        marker=dict(color='pink', size=10),\n",
    "        name='Average Bloom Day'\n",
    "    )\n",
    ")\n",
    "\n",
    "# Add error bars\n",
    "fig.add_trace(\n",
    "    go.Scatter(\n",
    "        x=x_coords,\n",
    "        y=site_stats['MinBloomDay'],\n",
    "        mode='lines',\n",
    "        line=dict(color='gray', width=0),\n",
    "        showlegend=False\n",
    "    )\n",
    ")\n",
    "\n",
    "fig.add_trace(\n",
    "    go.Scatter(\n",
    "        x=x_coords,\n",
    "        y=site_stats['MaxBloomDay'],\n",
    "        mode='lines',\n",
    "        line=dict(color='gray', width=0),\n",
    "        fill='tonexty',\n",
    "        fillcolor='rgba(128, 128, 128, 0.2)',\n",
    "        name='Bloom Day Range'\n",
    "    )\n",
    ")\n",
    "\n",
    "# Customize the layout\n",
    "fig.update_layout(\n",
    "    title=dict(text='Cherry Blossom Bloom Dates in Japanese Sites (1953-2023)', font=dict(size=24)),\n",
    "    xaxis=dict(\n",
    "        title='City',\n",
    "        titlefont=dict(size=22),\n",
    "        tickmode='array',\n",
    "        tickvals=x_coords,\n",
    "        ticktext=site_stats['Site'],\n",
    "        tickangle=70,\n",
    "        tickfont=dict(size=12)\n",
    "    ),\n",
    "    yaxis=dict(\n",
    "        title='Day of Year',\n",
    "        titlefont=dict(size=22),\n",
    "        tickfont=dict(size=14),\n",
    "        gridcolor='lightgray',\n",
    "        gridwidth=1,\n",
    "        griddash='dash'\n",
    "    ),\n",
    "    showlegend=True,\n",
    "    legend=dict(font=dict(size=14)),\n",
    "    height=800,\n",
    "    width=1500,  # Increased width to accommodate wider spacing\n",
    "    margin=dict(b=150, l=50, r=50, t=100),  # Adjusted margins\n",
    "    plot_bgcolor='white',  # Set plot background to white\n",
    "    paper_bgcolor='white'  # Set paper background to white\n",
    ")\n",
    "\n",
    "# Update x-axis to show all labels\n",
    "fig.update_xaxes(range=[-1, max(x_coords) + 1])\n",
    "\n",
    "# Show the plot\n",
    "fig.show()"
   ]
  },
  {
   "cell_type": "code",
   "execution_count": 16,
   "metadata": {},
   "outputs": [
    {
     "data": {
      "application/vnd.plotly.v1+json": {
       "config": {
        "plotlyServerURL": "https://plot.ly"
       },
       "data": [
        {
         "line": {
          "color": "rgb(255, 100, 100)",
          "width": 2
         },
         "mode": "lines",
         "name": "Mean Bloom Day",
         "type": "scatter",
         "x": [
          1954,
          1955,
          1956,
          1957,
          1958,
          1959,
          1960,
          1961,
          1962,
          1963,
          1964,
          1965,
          1966,
          1967,
          1968,
          1969,
          1970,
          1971,
          1972,
          1973,
          1974,
          1975,
          1976,
          1977,
          1978,
          1979,
          1980,
          1981,
          1982,
          1983,
          1984,
          1985,
          1986,
          1987,
          1988,
          1989,
          1990,
          1991,
          1992,
          1993,
          1994,
          1995,
          1996,
          1997,
          1998,
          1999,
          2000,
          2001,
          2002,
          2003,
          2004,
          2005,
          2006,
          2007,
          2008,
          2009,
          2010,
          2011,
          2012,
          2013,
          2014,
          2015,
          2016,
          2017,
          2018,
          2019,
          2020,
          2021,
          2022,
          2023
         ],
         "y": [
          95.75308641975309,
          93.23170731707317,
          99.08333333333333,
          100.87951807228916,
          97.95180722891567,
          90.8953488372093,
          96.85882352941177,
          98.32558139534883,
          98.6590909090909,
          99.37078651685393,
          100.5,
          104.48351648351648,
          94.08888888888889,
          97.23595505617978,
          103.3932584269663,
          105.75280898876404,
          104.97727272727273,
          97.57608695652173,
          96.25773195876289,
          97.08080808080808,
          98.88,
          102.84848484848484,
          93.4949494949495,
          96.02020202020202,
          102.67676767676768,
          96.91,
          101.3,
          93.41,
          93.33,
          93.74,
          104.4,
          94.34,
          99.19,
          90.63,
          97.8,
          96.95,
          91.72,
          92.51485148514851,
          90.2871287128713,
          91.67,
          93.41,
          94.00990099009901,
          95.39,
          88.36633663366337,
          87.12121212121212,
          92.37755102040816,
          94.14432989690722,
          88.32291666666667,
          81.07291666666667,
          94.13978494623656,
          89.0752688172043,
          97.56521739130434,
          92.48863636363636,
          90.91666666666667,
          88.43835616438356,
          85.82352941176471,
          93.60655737704919,
          90.9322033898305,
          99.40677966101696,
          91.16949152542372,
          86.46551724137932,
          85.10344827586206,
          87.3103448275862,
          91.06896551724138,
          83.20689655172414,
          85.98275862068965,
          85.93103448275862,
          81.01754385964912,
          84.67241379310344,
          80.3103448275862
         ]
        },
        {
         "fill": "toself",
         "fillcolor": "rgba(255, 100, 100, 0.2)",
         "line": {
          "color": "rgba(255, 100, 100, 0)"
         },
         "name": "±1 Std Dev",
         "type": "scatter",
         "x": [
          1954,
          1955,
          1956,
          1957,
          1958,
          1959,
          1960,
          1961,
          1962,
          1963,
          1964,
          1965,
          1966,
          1967,
          1968,
          1969,
          1970,
          1971,
          1972,
          1973,
          1974,
          1975,
          1976,
          1977,
          1978,
          1979,
          1980,
          1981,
          1982,
          1983,
          1984,
          1985,
          1986,
          1987,
          1988,
          1989,
          1990,
          1991,
          1992,
          1993,
          1994,
          1995,
          1996,
          1997,
          1998,
          1999,
          2000,
          2001,
          2002,
          2003,
          2004,
          2005,
          2006,
          2007,
          2008,
          2009,
          2010,
          2011,
          2012,
          2013,
          2014,
          2015,
          2016,
          2017,
          2018,
          2019,
          2020,
          2021,
          2022,
          2023,
          2023,
          2022,
          2021,
          2020,
          2019,
          2018,
          2017,
          2016,
          2015,
          2014,
          2013,
          2012,
          2011,
          2010,
          2009,
          2008,
          2007,
          2006,
          2005,
          2004,
          2003,
          2002,
          2001,
          2000,
          1999,
          1998,
          1997,
          1996,
          1995,
          1994,
          1993,
          1992,
          1991,
          1990,
          1989,
          1988,
          1987,
          1986,
          1985,
          1984,
          1983,
          1982,
          1981,
          1980,
          1979,
          1978,
          1977,
          1976,
          1975,
          1974,
          1973,
          1972,
          1971,
          1970,
          1969,
          1968,
          1967,
          1966,
          1965,
          1964,
          1963,
          1962,
          1961,
          1960,
          1959,
          1958,
          1957,
          1956,
          1955,
          1954
         ],
         "y": [
          78.7894997823424,
          70.34481485803022,
          79.34760441383466,
          79.99692081865244,
          79.30234270089508,
          72.89598344331935,
          76.75542832861447,
          80.15874550880572,
          80.96378575627112,
          80.4184647458749,
          82.20735968606029,
          82.52276227800877,
          71.19556301565505,
          80.56397088572858,
          73.6566808676065,
          76.06416680063992,
          89.14918967321516,
          75.8787514763894,
          60.99317280509693,
          61.19616388393383,
          60.03628829020147,
          59.1761511889158,
          65.30124136150684,
          57.35972813827582,
          66.56276782402577,
          58.90811408188624,
          63.601434799427466,
          66.8792497831157,
          54.90650786986239,
          69.12555076563541,
          73.95116893653693,
          67.72595343155282,
          62.03411897223408,
          62.83615030608243,
          69.26577458205637,
          43.68064917446678,
          45.77447230522306,
          66.68478611109802,
          61.393760396365394,
          62.388691106696584,
          64.738367237764,
          69.79234741856544,
          64.18915340438936,
          60.505352167109706,
          61.91217878430934,
          55.4914026113355,
          63.76101838290826,
          60.322730655379786,
          54.54775689566448,
          56.32139989637839,
          63.11156649565223,
          72.58113263398309,
          64.88012763098365,
          66.99701787339268,
          64.40135557653414,
          60.869278030803656,
          49.151231978575794,
          63.923989819996194,
          57.16155195907949,
          45.24032847293046,
          59.862380955330586,
          60.409042591348964,
          64.89308417161836,
          67.33959806648903,
          57.51181638867344,
          60.444695264675346,
          62.15587269131509,
          57.69336018991163,
          60.90941149369037,
          58.364472901051826,
          102.25621675412059,
          108.43541609251652,
          104.34172752938662,
          109.70619627420214,
          111.52082197670396,
          108.90197671477485,
          114.79833296799373,
          109.72760548355406,
          109.79785396037516,
          113.06865352742804,
          137.098654577917,
          141.6520073629544,
          117.94041695966482,
          138.06188277552258,
          110.77778079272576,
          112.47535675223298,
          114.83631545994066,
          120.09714509628907,
          122.5493021486256,
          115.03897113875638,
          131.95816999609474,
          107.59807643766887,
          116.32310267795356,
          124.52764141090618,
          129.26369942948082,
          112.33024545811492,
          116.22732110021703,
          126.59084659561064,
          118.22745456163258,
          122.081632762236,
          120.95130889330342,
          119.1804970293772,
          118.344916859199,
          137.66552769477693,
          150.21935082553324,
          126.33422541794363,
          118.42384969391756,
          136.34588102776593,
          120.95404656844718,
          134.84883106346308,
          118.35444923436458,
          131.7534921301376,
          119.9407502168843,
          138.99856520057253,
          134.91188591811374,
          138.7907675295096,
          134.68067590212823,
          121.68865762839215,
          146.52081850805388,
          137.72371170979852,
          132.96545227768235,
          131.52229111242883,
          119.27342243665407,
          120.8053557813303,
          135.44145117688817,
          133.1298359863261,
          113.90793922663097,
          116.98221476212272,
          126.4442706890242,
          118.79264031393971,
          118.32310828783295,
          116.35439606191069,
          116.49241728189195,
          116.96221873020906,
          108.89471423109924,
          116.60127175693626,
          121.76211532592588,
          118.819062252832,
          116.11859977611613,
          112.71667305716377
         ]
        },
        {
         "line": {
          "color": "rgba(200, 200, 200, 0.5)",
          "dash": "dash",
          "width": 1
         },
         "mode": "lines",
         "name": "Earliest Bloom",
         "type": "scatter",
         "x": [
          1954,
          1955,
          1956,
          1957,
          1958,
          1959,
          1960,
          1961,
          1962,
          1963,
          1964,
          1965,
          1966,
          1967,
          1968,
          1969,
          1970,
          1971,
          1972,
          1973,
          1974,
          1975,
          1976,
          1977,
          1978,
          1979,
          1980,
          1981,
          1982,
          1983,
          1984,
          1985,
          1986,
          1987,
          1988,
          1989,
          1990,
          1991,
          1992,
          1993,
          1994,
          1995,
          1996,
          1997,
          1998,
          1999,
          2000,
          2001,
          2002,
          2003,
          2004,
          2005,
          2006,
          2007,
          2008,
          2009,
          2010,
          2011,
          2012,
          2013,
          2014,
          2015,
          2016,
          2017,
          2018,
          2019,
          2020,
          2021,
          2022,
          2023
         ],
         "y": [
          21,
          7,
          5,
          14,
          10,
          12,
          23,
          20,
          26,
          10,
          27,
          20,
          14,
          20,
          85,
          84,
          29,
          10,
          8,
          10,
          3,
          15,
          1,
          4,
          6,
          6,
          9,
          9,
          5,
          5,
          13,
          6,
          9,
          3,
          1,
          6,
          5,
          2,
          5,
          4,
          5,
          15,
          4,
          1,
          4,
          15,
          1,
          4,
          4,
          1,
          13,
          7,
          13,
          16,
          3,
          2,
          15,
          7,
          17,
          7,
          7,
          6,
          18,
          14,
          7,
          7,
          6,
          4,
          11,
          7
         ]
        },
        {
         "line": {
          "color": "rgba(200, 200, 200, 0.5)",
          "dash": "dash",
          "width": 1
         },
         "mode": "lines",
         "name": "Latest Bloom",
         "type": "scatter",
         "x": [
          1954,
          1955,
          1956,
          1957,
          1958,
          1959,
          1960,
          1961,
          1962,
          1963,
          1964,
          1965,
          1966,
          1967,
          1968,
          1969,
          1970,
          1971,
          1972,
          1973,
          1974,
          1975,
          1976,
          1977,
          1978,
          1979,
          1980,
          1981,
          1982,
          1983,
          1984,
          1985,
          1986,
          1987,
          1988,
          1989,
          1990,
          1991,
          1992,
          1993,
          1994,
          1995,
          1996,
          1997,
          1998,
          1999,
          2000,
          2001,
          2002,
          2003,
          2004,
          2005,
          2006,
          2007,
          2008,
          2009,
          2010,
          2011,
          2012,
          2013,
          2014,
          2015,
          2016,
          2017,
          2018,
          2019,
          2020,
          2021,
          2022,
          2023
         ],
         "y": [
          137,
          139,
          134,
          138,
          143,
          128,
          146,
          138,
          135,
          138,
          143,
          141,
          140,
          134,
          353,
          354,
          140,
          146,
          359,
          354,
          361,
          360,
          141,
          358,
          364,
          363,
          358,
          144,
          364,
          135,
          151,
          139,
          360,
          137,
          143,
          366,
          365,
          134,
          145,
          140,
          139,
          138,
          149,
          139,
          134,
          362,
          143,
          138,
          130,
          364,
          137,
          143,
          138,
          136,
          137,
          130,
          365,
          139,
          358,
          363,
          132,
          126,
          134,
          134,
          132,
          129,
          131,
          128,
          128,
          123
         ]
        }
       ],
       "layout": {
        "height": 600,
        "hovermode": "x unified",
        "legend": {
         "bgcolor": "rgba(255, 255, 255, 0.8)",
         "x": 0.02,
         "y": 0.98
        },
        "template": {
         "data": {
          "bar": [
           {
            "error_x": {
             "color": "#2a3f5f"
            },
            "error_y": {
             "color": "#2a3f5f"
            },
            "marker": {
             "line": {
              "color": "#E5ECF6",
              "width": 0.5
             },
             "pattern": {
              "fillmode": "overlay",
              "size": 10,
              "solidity": 0.2
             }
            },
            "type": "bar"
           }
          ],
          "barpolar": [
           {
            "marker": {
             "line": {
              "color": "#E5ECF6",
              "width": 0.5
             },
             "pattern": {
              "fillmode": "overlay",
              "size": 10,
              "solidity": 0.2
             }
            },
            "type": "barpolar"
           }
          ],
          "carpet": [
           {
            "aaxis": {
             "endlinecolor": "#2a3f5f",
             "gridcolor": "white",
             "linecolor": "white",
             "minorgridcolor": "white",
             "startlinecolor": "#2a3f5f"
            },
            "baxis": {
             "endlinecolor": "#2a3f5f",
             "gridcolor": "white",
             "linecolor": "white",
             "minorgridcolor": "white",
             "startlinecolor": "#2a3f5f"
            },
            "type": "carpet"
           }
          ],
          "choropleth": [
           {
            "colorbar": {
             "outlinewidth": 0,
             "ticks": ""
            },
            "type": "choropleth"
           }
          ],
          "contour": [
           {
            "colorbar": {
             "outlinewidth": 0,
             "ticks": ""
            },
            "colorscale": [
             [
              0,
              "#0d0887"
             ],
             [
              0.1111111111111111,
              "#46039f"
             ],
             [
              0.2222222222222222,
              "#7201a8"
             ],
             [
              0.3333333333333333,
              "#9c179e"
             ],
             [
              0.4444444444444444,
              "#bd3786"
             ],
             [
              0.5555555555555556,
              "#d8576b"
             ],
             [
              0.6666666666666666,
              "#ed7953"
             ],
             [
              0.7777777777777778,
              "#fb9f3a"
             ],
             [
              0.8888888888888888,
              "#fdca26"
             ],
             [
              1,
              "#f0f921"
             ]
            ],
            "type": "contour"
           }
          ],
          "contourcarpet": [
           {
            "colorbar": {
             "outlinewidth": 0,
             "ticks": ""
            },
            "type": "contourcarpet"
           }
          ],
          "heatmap": [
           {
            "colorbar": {
             "outlinewidth": 0,
             "ticks": ""
            },
            "colorscale": [
             [
              0,
              "#0d0887"
             ],
             [
              0.1111111111111111,
              "#46039f"
             ],
             [
              0.2222222222222222,
              "#7201a8"
             ],
             [
              0.3333333333333333,
              "#9c179e"
             ],
             [
              0.4444444444444444,
              "#bd3786"
             ],
             [
              0.5555555555555556,
              "#d8576b"
             ],
             [
              0.6666666666666666,
              "#ed7953"
             ],
             [
              0.7777777777777778,
              "#fb9f3a"
             ],
             [
              0.8888888888888888,
              "#fdca26"
             ],
             [
              1,
              "#f0f921"
             ]
            ],
            "type": "heatmap"
           }
          ],
          "heatmapgl": [
           {
            "colorbar": {
             "outlinewidth": 0,
             "ticks": ""
            },
            "colorscale": [
             [
              0,
              "#0d0887"
             ],
             [
              0.1111111111111111,
              "#46039f"
             ],
             [
              0.2222222222222222,
              "#7201a8"
             ],
             [
              0.3333333333333333,
              "#9c179e"
             ],
             [
              0.4444444444444444,
              "#bd3786"
             ],
             [
              0.5555555555555556,
              "#d8576b"
             ],
             [
              0.6666666666666666,
              "#ed7953"
             ],
             [
              0.7777777777777778,
              "#fb9f3a"
             ],
             [
              0.8888888888888888,
              "#fdca26"
             ],
             [
              1,
              "#f0f921"
             ]
            ],
            "type": "heatmapgl"
           }
          ],
          "histogram": [
           {
            "marker": {
             "pattern": {
              "fillmode": "overlay",
              "size": 10,
              "solidity": 0.2
             }
            },
            "type": "histogram"
           }
          ],
          "histogram2d": [
           {
            "colorbar": {
             "outlinewidth": 0,
             "ticks": ""
            },
            "colorscale": [
             [
              0,
              "#0d0887"
             ],
             [
              0.1111111111111111,
              "#46039f"
             ],
             [
              0.2222222222222222,
              "#7201a8"
             ],
             [
              0.3333333333333333,
              "#9c179e"
             ],
             [
              0.4444444444444444,
              "#bd3786"
             ],
             [
              0.5555555555555556,
              "#d8576b"
             ],
             [
              0.6666666666666666,
              "#ed7953"
             ],
             [
              0.7777777777777778,
              "#fb9f3a"
             ],
             [
              0.8888888888888888,
              "#fdca26"
             ],
             [
              1,
              "#f0f921"
             ]
            ],
            "type": "histogram2d"
           }
          ],
          "histogram2dcontour": [
           {
            "colorbar": {
             "outlinewidth": 0,
             "ticks": ""
            },
            "colorscale": [
             [
              0,
              "#0d0887"
             ],
             [
              0.1111111111111111,
              "#46039f"
             ],
             [
              0.2222222222222222,
              "#7201a8"
             ],
             [
              0.3333333333333333,
              "#9c179e"
             ],
             [
              0.4444444444444444,
              "#bd3786"
             ],
             [
              0.5555555555555556,
              "#d8576b"
             ],
             [
              0.6666666666666666,
              "#ed7953"
             ],
             [
              0.7777777777777778,
              "#fb9f3a"
             ],
             [
              0.8888888888888888,
              "#fdca26"
             ],
             [
              1,
              "#f0f921"
             ]
            ],
            "type": "histogram2dcontour"
           }
          ],
          "mesh3d": [
           {
            "colorbar": {
             "outlinewidth": 0,
             "ticks": ""
            },
            "type": "mesh3d"
           }
          ],
          "parcoords": [
           {
            "line": {
             "colorbar": {
              "outlinewidth": 0,
              "ticks": ""
             }
            },
            "type": "parcoords"
           }
          ],
          "pie": [
           {
            "automargin": true,
            "type": "pie"
           }
          ],
          "scatter": [
           {
            "fillpattern": {
             "fillmode": "overlay",
             "size": 10,
             "solidity": 0.2
            },
            "type": "scatter"
           }
          ],
          "scatter3d": [
           {
            "line": {
             "colorbar": {
              "outlinewidth": 0,
              "ticks": ""
             }
            },
            "marker": {
             "colorbar": {
              "outlinewidth": 0,
              "ticks": ""
             }
            },
            "type": "scatter3d"
           }
          ],
          "scattercarpet": [
           {
            "marker": {
             "colorbar": {
              "outlinewidth": 0,
              "ticks": ""
             }
            },
            "type": "scattercarpet"
           }
          ],
          "scattergeo": [
           {
            "marker": {
             "colorbar": {
              "outlinewidth": 0,
              "ticks": ""
             }
            },
            "type": "scattergeo"
           }
          ],
          "scattergl": [
           {
            "marker": {
             "colorbar": {
              "outlinewidth": 0,
              "ticks": ""
             }
            },
            "type": "scattergl"
           }
          ],
          "scattermapbox": [
           {
            "marker": {
             "colorbar": {
              "outlinewidth": 0,
              "ticks": ""
             }
            },
            "type": "scattermapbox"
           }
          ],
          "scatterpolar": [
           {
            "marker": {
             "colorbar": {
              "outlinewidth": 0,
              "ticks": ""
             }
            },
            "type": "scatterpolar"
           }
          ],
          "scatterpolargl": [
           {
            "marker": {
             "colorbar": {
              "outlinewidth": 0,
              "ticks": ""
             }
            },
            "type": "scatterpolargl"
           }
          ],
          "scatterternary": [
           {
            "marker": {
             "colorbar": {
              "outlinewidth": 0,
              "ticks": ""
             }
            },
            "type": "scatterternary"
           }
          ],
          "surface": [
           {
            "colorbar": {
             "outlinewidth": 0,
             "ticks": ""
            },
            "colorscale": [
             [
              0,
              "#0d0887"
             ],
             [
              0.1111111111111111,
              "#46039f"
             ],
             [
              0.2222222222222222,
              "#7201a8"
             ],
             [
              0.3333333333333333,
              "#9c179e"
             ],
             [
              0.4444444444444444,
              "#bd3786"
             ],
             [
              0.5555555555555556,
              "#d8576b"
             ],
             [
              0.6666666666666666,
              "#ed7953"
             ],
             [
              0.7777777777777778,
              "#fb9f3a"
             ],
             [
              0.8888888888888888,
              "#fdca26"
             ],
             [
              1,
              "#f0f921"
             ]
            ],
            "type": "surface"
           }
          ],
          "table": [
           {
            "cells": {
             "fill": {
              "color": "#EBF0F8"
             },
             "line": {
              "color": "white"
             }
            },
            "header": {
             "fill": {
              "color": "#C8D4E3"
             },
             "line": {
              "color": "white"
             }
            },
            "type": "table"
           }
          ]
         },
         "layout": {
          "annotationdefaults": {
           "arrowcolor": "#2a3f5f",
           "arrowhead": 0,
           "arrowwidth": 1
          },
          "autotypenumbers": "strict",
          "coloraxis": {
           "colorbar": {
            "outlinewidth": 0,
            "ticks": ""
           }
          },
          "colorscale": {
           "diverging": [
            [
             0,
             "#8e0152"
            ],
            [
             0.1,
             "#c51b7d"
            ],
            [
             0.2,
             "#de77ae"
            ],
            [
             0.3,
             "#f1b6da"
            ],
            [
             0.4,
             "#fde0ef"
            ],
            [
             0.5,
             "#f7f7f7"
            ],
            [
             0.6,
             "#e6f5d0"
            ],
            [
             0.7,
             "#b8e186"
            ],
            [
             0.8,
             "#7fbc41"
            ],
            [
             0.9,
             "#4d9221"
            ],
            [
             1,
             "#276419"
            ]
           ],
           "sequential": [
            [
             0,
             "#0d0887"
            ],
            [
             0.1111111111111111,
             "#46039f"
            ],
            [
             0.2222222222222222,
             "#7201a8"
            ],
            [
             0.3333333333333333,
             "#9c179e"
            ],
            [
             0.4444444444444444,
             "#bd3786"
            ],
            [
             0.5555555555555556,
             "#d8576b"
            ],
            [
             0.6666666666666666,
             "#ed7953"
            ],
            [
             0.7777777777777778,
             "#fb9f3a"
            ],
            [
             0.8888888888888888,
             "#fdca26"
            ],
            [
             1,
             "#f0f921"
            ]
           ],
           "sequentialminus": [
            [
             0,
             "#0d0887"
            ],
            [
             0.1111111111111111,
             "#46039f"
            ],
            [
             0.2222222222222222,
             "#7201a8"
            ],
            [
             0.3333333333333333,
             "#9c179e"
            ],
            [
             0.4444444444444444,
             "#bd3786"
            ],
            [
             0.5555555555555556,
             "#d8576b"
            ],
            [
             0.6666666666666666,
             "#ed7953"
            ],
            [
             0.7777777777777778,
             "#fb9f3a"
            ],
            [
             0.8888888888888888,
             "#fdca26"
            ],
            [
             1,
             "#f0f921"
            ]
           ]
          },
          "colorway": [
           "#636efa",
           "#EF553B",
           "#00cc96",
           "#ab63fa",
           "#FFA15A",
           "#19d3f3",
           "#FF6692",
           "#B6E880",
           "#FF97FF",
           "#FECB52"
          ],
          "font": {
           "color": "#2a3f5f"
          },
          "geo": {
           "bgcolor": "white",
           "lakecolor": "white",
           "landcolor": "#E5ECF6",
           "showlakes": true,
           "showland": true,
           "subunitcolor": "white"
          },
          "hoverlabel": {
           "align": "left"
          },
          "hovermode": "closest",
          "mapbox": {
           "style": "light"
          },
          "paper_bgcolor": "white",
          "plot_bgcolor": "#E5ECF6",
          "polar": {
           "angularaxis": {
            "gridcolor": "white",
            "linecolor": "white",
            "ticks": ""
           },
           "bgcolor": "#E5ECF6",
           "radialaxis": {
            "gridcolor": "white",
            "linecolor": "white",
            "ticks": ""
           }
          },
          "scene": {
           "xaxis": {
            "backgroundcolor": "#E5ECF6",
            "gridcolor": "white",
            "gridwidth": 2,
            "linecolor": "white",
            "showbackground": true,
            "ticks": "",
            "zerolinecolor": "white"
           },
           "yaxis": {
            "backgroundcolor": "#E5ECF6",
            "gridcolor": "white",
            "gridwidth": 2,
            "linecolor": "white",
            "showbackground": true,
            "ticks": "",
            "zerolinecolor": "white"
           },
           "zaxis": {
            "backgroundcolor": "#E5ECF6",
            "gridcolor": "white",
            "gridwidth": 2,
            "linecolor": "white",
            "showbackground": true,
            "ticks": "",
            "zerolinecolor": "white"
           }
          },
          "shapedefaults": {
           "line": {
            "color": "#2a3f5f"
           }
          },
          "ternary": {
           "aaxis": {
            "gridcolor": "white",
            "linecolor": "white",
            "ticks": ""
           },
           "baxis": {
            "gridcolor": "white",
            "linecolor": "white",
            "ticks": ""
           },
           "bgcolor": "#E5ECF6",
           "caxis": {
            "gridcolor": "white",
            "linecolor": "white",
            "ticks": ""
           }
          },
          "title": {
           "x": 0.05
          },
          "xaxis": {
           "automargin": true,
           "gridcolor": "white",
           "linecolor": "white",
           "ticks": "",
           "title": {
            "standoff": 15
           },
           "zerolinecolor": "white",
           "zerolinewidth": 2
          },
          "yaxis": {
           "automargin": true,
           "gridcolor": "white",
           "linecolor": "white",
           "ticks": "",
           "title": {
            "standoff": 15
           },
           "zerolinecolor": "white",
           "zerolinewidth": 2
          }
         }
        },
        "title": {
         "text": "Cherry Blossom Bloom Dates Trend (1953-2023)"
        },
        "width": 1000,
        "xaxis": {
         "dtick": 10,
         "tickmode": "linear",
         "title": {
          "text": "Year"
         }
        },
        "yaxis": {
         "dtick": 30,
         "range": [
          0,
          150
         ],
         "title": {
          "text": "Day of Year"
         }
        }
       }
      }
     },
     "metadata": {},
     "output_type": "display_data"
    },
    {
     "name": "stdout",
     "output_type": "stream",
     "text": [
      "         mean  median    std\n",
      "Decade                      \n",
      "1950    96.28    93.0  19.81\n",
      "1960    99.89    96.0  22.09\n",
      "1970    98.61    95.0  34.46\n",
      "1980    96.51    95.0  34.21\n",
      "1990    91.69    91.0  30.95\n",
      "2000    90.31    89.0  28.14\n",
      "2010    89.47    87.5  32.28\n",
      "2020    82.99    82.0  23.18\n"
     ]
    }
   ],
   "source": [
    "import plotly.graph_objects as go\n",
    "import pandas as pd\n",
    "import numpy as np\n",
    "\n",
    "# Prepare the data\n",
    "all_site_data['Year'] = pd.to_numeric(all_site_data['Year'], errors='coerce')\n",
    "yearly_stats = all_site_data.groupby('Year')['BloomDay'].agg(['mean', 'std', 'min', 'max']).reset_index()\n",
    "\n",
    "# Create the plot\n",
    "fig = go.Figure()\n",
    "\n",
    "# Add the mean line\n",
    "fig.add_trace(go.Scatter(\n",
    "    x=yearly_stats['Year'],\n",
    "    y=yearly_stats['mean'],\n",
    "    mode='lines',\n",
    "    name='Mean Bloom Day',\n",
    "    line=dict(color='rgb(255, 100, 100)', width=2)\n",
    "))\n",
    "\n",
    "# Add the error band (±1 standard deviation)\n",
    "fig.add_trace(go.Scatter(\n",
    "    x=yearly_stats['Year'].tolist() + yearly_stats['Year'].tolist()[::-1],\n",
    "    y=(yearly_stats['mean'] - yearly_stats['std']).tolist() + (yearly_stats['mean'] + yearly_stats['std']).tolist()[::-1],\n",
    "    fill='toself',\n",
    "    fillcolor='rgba(255, 100, 100, 0.2)',\n",
    "    line=dict(color='rgba(255, 100, 100, 0)'),\n",
    "    name='±1 Std Dev'\n",
    "))\n",
    "\n",
    "# Add min and max lines\n",
    "fig.add_trace(go.Scatter(\n",
    "    x=yearly_stats['Year'],\n",
    "    y=yearly_stats['min'],\n",
    "    mode='lines',\n",
    "    line=dict(color='rgba(200, 200, 200, 0.5)', width=1, dash='dash'),\n",
    "    name='Earliest Bloom'\n",
    "))\n",
    "\n",
    "fig.add_trace(go.Scatter(\n",
    "    x=yearly_stats['Year'],\n",
    "    y=yearly_stats['max'],\n",
    "    mode='lines',\n",
    "    line=dict(color='rgba(200, 200, 200, 0.5)', width=1, dash='dash'),\n",
    "    name='Latest Bloom'\n",
    "))\n",
    "\n",
    "# Customize the layout\n",
    "fig.update_layout(\n",
    "    title='Cherry Blossom Bloom Dates Trend (1953-2023)',\n",
    "    xaxis_title='Year',\n",
    "    yaxis_title='Day of Year',\n",
    "    yaxis=dict(range=[0, 150], dtick=30),\n",
    "    xaxis=dict(tickmode='linear', dtick=10),\n",
    "    legend=dict(x=0.02, y=0.98, bgcolor='rgba(255, 255, 255, 0.8)'),\n",
    "    hovermode='x unified',\n",
    "    height=600,\n",
    "    width=1000,\n",
    ")\n",
    "\n",
    "# Show the plot\n",
    "fig.show()\n",
    "\n",
    "# Print summary statistics for each decade\n",
    "all_site_data['Decade'] = (all_site_data['Year'] // 10) * 10\n",
    "summary = all_site_data.groupby('Decade')['BloomDay'].agg(['mean', 'median', 'std']).round(2)\n",
    "print(summary)"
   ]
  },
  {
   "cell_type": "code",
   "execution_count": null,
   "metadata": {},
   "outputs": [],
   "source": []
  },
  {
   "cell_type": "code",
   "execution_count": null,
   "metadata": {},
   "outputs": [],
   "source": []
  },
  {
   "cell_type": "code",
   "execution_count": null,
   "metadata": {},
   "outputs": [],
   "source": []
  }
 ],
 "metadata": {
  "kernelspec": {
   "display_name": "venv",
   "language": "python",
   "name": "python3"
  },
  "language_info": {
   "codemirror_mode": {
    "name": "ipython",
    "version": 3
   },
   "file_extension": ".py",
   "mimetype": "text/x-python",
   "name": "python",
   "nbconvert_exporter": "python",
   "pygments_lexer": "ipython3",
   "version": "3.10.12"
  }
 },
 "nbformat": 4,
 "nbformat_minor": 2
}
